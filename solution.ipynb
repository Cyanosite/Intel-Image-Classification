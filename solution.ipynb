{
 "cells": [
  {
   "cell_type": "code",
   "execution_count": null,
   "metadata": {},
   "outputs": [],
   "source": [
    "! pip install kaggle\n",
    "! kaggle datasets download puneet6060/intel-image-classification\n",
    "! unzip -n -d dataset intel-image-classification.zip"
   ]
  },
  {
   "cell_type": "markdown",
   "metadata": {},
   "source": [
    "# Imports\n",
    "\n",
    "- numpy"
   ]
  },
  {
   "cell_type": "code",
   "execution_count": null,
   "metadata": {},
   "outputs": [],
   "source": [
    "! pip install numpy\n",
    "! pip install pillow\n",
    "! pip install matplotlib\n",
    "! pip install scikit-learn"
   ]
  },
  {
   "cell_type": "code",
   "execution_count": null,
   "metadata": {},
   "outputs": [],
   "source": [
    "import os\n",
    "import numpy as np\n",
    "from PIL import Image\n",
    "import matplotlib.pyplot as plt\n",
    "import tensorflow as tf"
   ]
  },
  {
   "cell_type": "code",
   "execution_count": null,
   "metadata": {},
   "outputs": [],
   "source": [
    "training_path = \"./dataset/seg_train/seg_train\"\n",
    "validation_path = \"./dataset/seg_test/seg_test\"\n",
    "training_subdirs = os.listdir(training_path)\n",
    "validation_subdirs = os.listdir(validation_path)\n",
    "\n",
    "training_images = [os.path.join(os.path.join(training_path, dir), (os.listdir(os.path.join(training_path, dir))[0])) for dir in os.listdir(training_path)]\n",
    "validation_images = [os.path.join(os.path.join(validation_path, dir), (os.listdir(os.path.join(validation_path, dir))[0])) for dir in os.listdir(validation_path)]\n",
    "training_images = [Image.open(image) for image in training_images]\n",
    "validation_images = [Image.open(image) for image in validation_images]\n",
    "fig, axs = plt.subplots(nrows=4, ncols=3)\n",
    "for i, ax in enumerate(axs):\n",
    "    for j, slot in enumerate(ax):\n",
    "        slot.axis('off')\n",
    "        if i < 2:\n",
    "            slot.imshow(training_images[i*len(ax) + j])\n",
    "            slot.set_title(f\"{training_subdirs[i*len(ax) + j]}\")\n",
    "        else:\n",
    "            slot.imshow(validation_images[(i-2)*len(ax) + j])\n",
    "            slot.set_title(f\"{validation_subdirs[(i-2)*len(ax) + j]}\")\n",
    "fig.tight_layout()\n",
    "plt.show()"
   ]
  },
  {
   "cell_type": "code",
   "execution_count": null,
   "metadata": {},
   "outputs": [],
   "source": [
    "train = tf.keras.utils.image_dataset_from_directory(training_path,\n",
    "                                                      labels='inferred',\n",
    "                                                      label_mode='categorical',\n",
    "                                                      batch_size=32,\n",
    "                                                      image_size=(150, 150))\n",
    "valid = tf.keras.utils.image_dataset_from_directory(validation_path,\n",
    "                                                      labels='inferred',\n",
    "                                                      label_mode='categorical',\n",
    "                                                      batch_size=32,\n",
    "                                                      image_size=(150, 150))\n",
    "class_names = train.class_names\n",
    "class_names"
   ]
  },
  {
   "cell_type": "code",
   "execution_count": null,
   "metadata": {},
   "outputs": [],
   "source": [
    "for i in train.as_numpy_iterator():\n",
    "    plt.axis('off')\n",
    "    plt.imshow(i[0][0].astype('uint8'))\n",
    "    plt.show()\n",
    "    break"
   ]
  },
  {
   "cell_type": "code",
   "execution_count": null,
   "metadata": {},
   "outputs": [],
   "source": [
    "AUTOTUNE = tf.data.AUTOTUNE\n",
    "\n",
    "train = train.cache().shuffle(1000).prefetch(buffer_size=AUTOTUNE)\n",
    "valid = valid.cache().prefetch(buffer_size=AUTOTUNE)"
   ]
  },
  {
   "cell_type": "code",
   "execution_count": null,
   "metadata": {},
   "outputs": [],
   "source": [
    "data_augmentation = tf.keras.Sequential([tf.keras.layers.RandomFlip(\"horizontal\", input_shape=(150,150,3)),\n",
    "                                         tf.keras.layers.RandomRotation(0.01), tf.keras.layers.RandomZoom(0.1)])"
   ]
  },
  {
   "cell_type": "code",
   "execution_count": null,
   "metadata": {},
   "outputs": [],
   "source": [
    "plt.figure(figsize=(10, 10))\n",
    "for images, _ in train.take(1):\n",
    "  for i in range(9):\n",
    "    augmented_images = data_augmentation(images)\n",
    "    ax = plt.subplot(3, 3, i + 1)\n",
    "    plt.imshow(augmented_images[0].numpy().astype(\"uint8\"))\n",
    "    plt.axis(\"off\")"
   ]
  },
  {
   "cell_type": "code",
   "execution_count": null,
   "metadata": {},
   "outputs": [],
   "source": [
    "from tensorflow.keras.models import Sequential\n",
    "from tensorflow.keras.layers import Dense, Conv2D, MaxPooling2D, Dropout, Flatten, Embedding\n",
    "from tensorflow.keras.optimizers import SGD\n",
    "from tensorflow.keras import layers\n",
    "\n",
    "model = Sequential([\n",
    "  data_augmentation,\n",
    "  layers.Rescaling(1.0/255.0, input_shape=(150,150,3)),\n",
    "  layers.Conv2D(32, 3, padding='same', activation='relu'),\n",
    "  layers.MaxPooling2D(),\n",
    "  layers.Conv2D(64, 3, padding='same', activation='relu'),\n",
    "  layers.MaxPooling2D(),\n",
    "  layers.Conv2D(64, 3, padding='same', activation='relu'),\n",
    "  layers.MaxPooling2D(),\n",
    "  layers.Flatten(),\n",
    "  layers.Dense(512, activation='relu'),\n",
    "  layers.Dropout(0.4),\n",
    "  layers.Dense(512, activation='relu'),\n",
    "  layers.Dropout(0.4),\n",
    "  layers.Dense(6, name=\"outputs\", activation='softmax')\n",
    "])\n",
    "\n",
    "print(model.summary())"
   ]
  },
  {
   "cell_type": "code",
   "execution_count": null,
   "metadata": {},
   "outputs": [],
   "source": [
    "from tensorflow.keras.callbacks import EarlyStopping, ModelCheckpoint, TensorBoard\n",
    "patience=10\n",
    "early_stopping=EarlyStopping(patience=patience, verbose=1)\n",
    "checkpointer=ModelCheckpoint(filepath='model.hdf5', save_best_only=True, verbose=1)\n",
    "tb = TensorBoard(log_dir='logs', histogram_freq=1, write_graph=1)\n",
    "\n",
    "model.compile(loss='categorical_crossentropy', optimizer=tf.keras.optimizers.SGD(learning_rate=5e-3, momentum=5e-3), metrics=['accuracy'])\n",
    "\n",
    "network_history = model.fit(train, validation_data=valid, epochs=50, verbose=1, callbacks=[early_stopping, checkpointer, tb])"
   ]
  },
  {
   "cell_type": "code",
   "execution_count": null,
   "metadata": {},
   "outputs": [],
   "source": [
    "acc = network_history.history['accuracy']\n",
    "val_acc = network_history.history['val_accuracy']\n",
    "\n",
    "loss = network_history.history['loss']\n",
    "val_loss = network_history.history['val_loss']\n",
    "\n",
    "epochs_range = range(48)\n",
    "\n",
    "plt.figure(figsize=(8, 8))\n",
    "plt.subplot(1, 2, 1)\n",
    "plt.plot(epochs_range, acc, label='Training Accuracy')\n",
    "plt.plot(epochs_range, val_acc, label='Validation Accuracy')\n",
    "plt.legend(loc='lower right')\n",
    "plt.title('Training and Validation Accuracy')\n",
    "\n",
    "plt.subplot(1, 2, 2)\n",
    "plt.plot(epochs_range, loss, label='Training Loss')\n",
    "plt.plot(epochs_range, val_loss, label='Validation Loss')\n",
    "plt.legend(loc='upper right')\n",
    "plt.title('Training and Validation Loss')\n",
    "plt.show()"
   ]
  },
  {
   "cell_type": "code",
   "execution_count": null,
   "metadata": {},
   "outputs": [],
   "source": [
    "model = tf.keras.models.load_model(\"/kaggle/working/model.hdf5\")\n",
    "X_test = \"/kaggle/input/intel-image-classification/seg_pred/seg_pred/10090.jpg\"\n",
    "\n",
    "img = tf.keras.utils.load_img(\n",
    "    X_test, target_size=(150, 150)\n",
    ")\n",
    "img_array = tf.keras.utils.img_to_array(img)\n",
    "img_array = tf.expand_dims(img_array, 0) # Create a batch\n",
    "\n",
    "predictions = model.predict(img_array)\n",
    "score = tf.nn.softmax(predictions[0])\n",
    "\n",
    "print(\n",
    "    \"This image most likely belongs to {} with a {:.2f} percent confidence.\"\n",
    "    .format(class_names[np.argmax(score)], 100 * np.max(score))\n",
    ")"
   ]
  },
  {
   "cell_type": "code",
   "execution_count": null,
   "metadata": {},
   "outputs": [],
   "source": []
  }
 ],
 "metadata": {
  "kernelspec": {
   "display_name": "Python 3",
   "language": "python",
   "name": "python3"
  },
  "language_info": {
   "codemirror_mode": {
    "name": "ipython",
    "version": 3
   },
   "file_extension": ".py",
   "mimetype": "text/x-python",
   "name": "python",
   "nbconvert_exporter": "python",
   "pygments_lexer": "ipython3",
   "version": "3.10.12"
  }
 },
 "nbformat": 4,
 "nbformat_minor": 2
}
